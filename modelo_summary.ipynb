{
 "cells": [
  {
   "cell_type": "code",
   "execution_count": 3,
   "id": "51702a83",
   "metadata": {},
   "outputs": [
    {
     "name": "stdout",
     "output_type": "stream",
     "text": [
      "\n",
      "📝 Resumo:\n",
      "\n",
      "Supercondutor magnético: entenda o que é a supercondutividade e o magnetismo no grafite. Supercondutor magnético foi descoberto em um material surpreendentemente comum, o grafite.\n"
     ]
    }
   ],
   "source": [
    "from transformers import T5Tokenizer, T5ForConditionalGeneration\n",
    "import torch\n",
    "\n",
    "# === Configurações ===\n",
    "model_name = \"recogna-nlp/ptt5-base-summ\"\n",
    "tokenizer_name = \"unicamp-dl/ptt5-base-portuguese-vocab\"\n",
    "arquivo_txt = \"/home/rafael/Documentos/github/agente/data/Paradoxo-Descoberto-um-supercondutor-que-tambem-e-magnetico.txt\"  # Nome do seu arquivo .txt\n",
    "device = torch.device(\"cuda\" if torch.cuda.is_available() else \"cpu\")\n",
    "\n",
    "# === Carrega modelo e tokenizador ===\n",
    "tokenizer = T5Tokenizer.from_pretrained(tokenizer_name)\n",
    "model = T5ForConditionalGeneration.from_pretrained(model_name).to(device)\n",
    "\n",
    "# === Lê o arquivo de texto ===\n",
    "with open(arquivo_txt, \"r\", encoding=\"utf-8\") as f:\n",
    "    texto = f.read()\n",
    "\n",
    "# === Prepara o texto para sumarização ===\n",
    "entrada = \"resuma: \" + texto.strip()\n",
    "inputs = tokenizer(entrada, return_tensors=\"pt\", truncation=True, max_length=512).to(device)\n",
    "\n",
    "# === Gera o resumo ===\n",
    "summary_ids = model.generate(\n",
    "    inputs[\"input_ids\"],\n",
    "    max_length=150,\n",
    "    min_length=30,\n",
    "    length_penalty=2.0,\n",
    "    num_beams=4,\n",
    "    early_stopping=True,\n",
    ")\n",
    "\n",
    "# === Exibe resultado ===\n",
    "resumo = tokenizer.decode(summary_ids[0], skip_special_tokens=True)\n",
    "print(\"\\n📝 Resumo:\\n\")\n",
    "print(resumo)\n"
   ]
  }
 ],
 "metadata": {
  "kernelspec": {
   "display_name": "base",
   "language": "python",
   "name": "python3"
  },
  "language_info": {
   "codemirror_mode": {
    "name": "ipython",
    "version": 3
   },
   "file_extension": ".py",
   "mimetype": "text/x-python",
   "name": "python",
   "nbconvert_exporter": "python",
   "pygments_lexer": "ipython3",
   "version": "3.11.10"
  }
 },
 "nbformat": 4,
 "nbformat_minor": 5
}
